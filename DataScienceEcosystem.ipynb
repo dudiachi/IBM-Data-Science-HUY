{
 "cells": [
  {
   "cell_type": "markdown",
   "id": "4916ca6c-1dad-4c40-9bf9-550ec63dbb06",
   "metadata": {},
   "source": [
    "# Data Science Tools and Ecosystem\n"
   ]
  },
  {
   "cell_type": "markdown",
   "id": "da867895-2044-4db8-8dee-d7a48a0c11df",
   "metadata": {},
   "source": [
    "In this notebook, Data Science Tools and Ecosystem are summarized."
   ]
  },
  {
   "cell_type": "markdown",
   "id": "14c304ec-a317-423f-9399-8c029a643b66",
   "metadata": {},
   "source": [
    "*Objectives:*\n",
    "* List popular languages for Data Science\n",
    "* Discover tools used by data scientists\n",
    "* Learn about what languges used by data scientists most"
   ]
  },
  {
   "cell_type": "markdown",
   "id": "bfe0114c-87da-4fd7-943a-22efa20b6dd7",
   "metadata": {},
   "source": [
    "Some of the popular languages that Data Scientists use are:\n",
    "1. R\n",
    "2. Python\n",
    "3. SQL"
   ]
  },
  {
   "cell_type": "markdown",
   "id": "3aed3dcc-8d17-4e61-8aa8-a3a23a6f46d4",
   "metadata": {},
   "source": [
    "# Data Science Tools\n",
    "|Data Science Tools|\n",
    "|---|\n",
    "|Apache hadoop|\n",
    "|Tensor flow|\n",
    "|Apache shark|"
   ]
  },
  {
   "cell_type": "markdown",
   "id": "9bc7bf91-cd2c-439e-bdcb-13ad07e36f05",
   "metadata": {},
   "source": [
    "### Below are a few examples of evaluating arithmetic expressions in Python"
   ]
  },
  {
   "cell_type": "code",
   "execution_count": 1,
   "id": "05a31f48-a5e5-43b9-b88a-77d6dab260bd",
   "metadata": {},
   "outputs": [
    {
     "data": {
      "text/plain": [
       "17"
      ]
     },
     "execution_count": 1,
     "metadata": {},
     "output_type": "execute_result"
    }
   ],
   "source": [
    "#This a simple arithmetic expression to mutiply then add integers\n",
    "(3*4)+5"
   ]
  },
  {
   "cell_type": "code",
   "execution_count": 2,
   "id": "c75630b5-96a4-4db5-b9c8-fa7b174f2686",
   "metadata": {},
   "outputs": [
    {
     "data": {
      "text/plain": [
       "3.3333333333333335"
      ]
     },
     "execution_count": 2,
     "metadata": {},
     "output_type": "execute_result"
    }
   ],
   "source": [
    "#This will convert 200 minutes to hours by diving by 60\n",
    "200/60"
   ]
  },
  {
   "cell_type": "markdown",
   "id": "01067c2c-d504-44bf-baf6-da79c5352adb",
   "metadata": {},
   "source": [
    "## Author\n",
    "Nguyễn Quang Huy"
   ]
  },
  {
   "cell_type": "code",
   "execution_count": null,
   "id": "688c8f0d-2237-4d81-8d9b-f3be535ede52",
   "metadata": {},
   "outputs": [],
   "source": []
  }
 ],
 "metadata": {
  "kernelspec": {
   "display_name": "Python 3 (ipykernel)",
   "language": "python",
   "name": "python3"
  },
  "language_info": {
   "codemirror_mode": {
    "name": "ipython",
    "version": 3
   },
   "file_extension": ".py",
   "mimetype": "text/x-python",
   "name": "python",
   "nbconvert_exporter": "python",
   "pygments_lexer": "ipython3",
   "version": "3.11.9"
  }
 },
 "nbformat": 4,
 "nbformat_minor": 5
}
